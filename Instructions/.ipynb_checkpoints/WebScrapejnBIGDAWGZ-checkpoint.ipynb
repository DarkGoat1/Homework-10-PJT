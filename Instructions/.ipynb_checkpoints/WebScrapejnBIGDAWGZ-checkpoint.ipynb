{
 "cells": [
  {
   "cell_type": "code",
   "execution_count": 1,
   "metadata": {},
   "outputs": [],
   "source": [
    "from bs4 import BeautifulSoup\n",
    "from splinter import Browser\n",
    "import requests\n",
    "import lxml\n",
    "import time"
   ]
  },
  {
   "cell_type": "code",
   "execution_count": 2,
   "metadata": {},
   "outputs": [],
   "source": [
    "executable_path = {'executable_path': 'chromedriver.exe'}\n",
    "browser = Browser('chrome', **executable_path, headless=False)"
   ]
  },
  {
   "cell_type": "code",
   "execution_count": 3,
   "metadata": {},
   "outputs": [],
   "source": [
    "url = 'https://mars.nasa.gov/news/'\n",
    "browser.visit(url)"
   ]
  },
  {
   "cell_type": "code",
   "execution_count": 4,
   "metadata": {},
   "outputs": [],
   "source": [
    "html = browser.html\n",
    "soup = BeautifulSoup(html, 'html.parser')"
   ]
  },
  {
   "cell_type": "code",
   "execution_count": null,
   "metadata": {},
   "outputs": [],
   "source": []
  },
  {
   "cell_type": "code",
   "execution_count": null,
   "metadata": {},
   "outputs": [],
   "source": []
  },
  {
   "cell_type": "code",
   "execution_count": 5,
   "metadata": {},
   "outputs": [],
   "source": [
    "response = requests.get(url)\n"
   ]
  },
  {
   "cell_type": "code",
   "execution_count": null,
   "metadata": {},
   "outputs": [],
   "source": [
    "\n"
   ]
  },
  {
   "cell_type": "code",
   "execution_count": 6,
   "metadata": {
    "scrolled": true
   },
   "outputs": [
    {
     "data": {
      "text/plain": [
       "['NASA Brings Mars Landing to Viewers Everywhere',\n",
       " 'Curiosity on the Move Again',\n",
       " 'The Mars InSight Landing Site Is Just Plain Perfect',\n",
       " \"Five Things to Know About InSight's Mars Landing\",\n",
       " 'NASA Launches a New Podcast to Mars',\n",
       " 'Update on Opportunity Rover Recovery Efforts',\n",
       " 'Third ASPIRE Test Confirms Mars 2020 Parachute a Go',\n",
       " 'NASA to Host Briefing on November Mars InSight Landing',\n",
       " \"NASA's InSight Will Study Mars While Standing Still\",\n",
       " \"NASA's First Image of Mars from a CubeSat\",\n",
       " \"The 'Claw Game' on Mars: NASA InSight Plays to Win\",\n",
       " 'Scientists to Debate Landing Site for Next Mars Rover',\n",
       " 'Mars Virtual Reality Software Wins NASA Award',\n",
       " 'Painting Cars for Mars',\n",
       " 'Opportunity Emerges in a Dusty Picture',\n",
       " 'NASA Seeking Partner in Contest to Name Next Mars Rover',\n",
       " \"NASA's MAVEN Selfie Marks Four Years in Orbit at Mars\",\n",
       " 'MarCO Makes Space for Small Explorers',\n",
       " 'Curiosity Surveys a Mystery Under Dusty Skies',\n",
       " \"NASA's InSight Has a Thermometer for Mars\",\n",
       " 'Digital Creators: Apply for NASA Mars Landing Event',\n",
       " \"NASA's InSight Passes Halfway to Mars, Instruments Check In\",\n",
       " \"Six Things About Opportunity's Recovery Efforts\",\n",
       " \"Meet the People Behind NASA's InSight Mars Lander\",\n",
       " 'Mars Terraforming Not Possible Using Present-Day Technology',\n",
       " 'Opportunity Hunkers Down During Dust Storm',\n",
       " 'NASA Statement on Possible Subsurface Lake near Martian South Pole',\n",
       " \"JPL's 'Martians' Are Coming to Griffith Observatory\",\n",
       " \"NASA's MAVEN Spacecraft Finds That 'Stolen' Electrons Enable Unusual Aurora on Mars\",\n",
       " \"'Storm Chasers' on Mars Searching for Dusty Secrets\",\n",
       " 'NASA Mars Mission Adds Southern California Dates',\n",
       " 'Curiosity Captures Photos of Thickening Dust',\n",
       " 'NASA Encounters the Perfect Storm for Science',\n",
       " 'Media Telecon About Mars Dust Storm, Opportunity',\n",
       " 'NASA Finds Ancient Organic Material, Mysterious Methane on Mars',\n",
       " 'NASA to Host Live Discussion on New Mars Science Results',\n",
       " \"Mars Curiosity's Labs Are Back in Action\",\n",
       " 'NASA CubeSats Steer Toward Mars',\n",
       " 'Scientists Shrink Chemistry Lab to Seek Evidence of Life on Mars',\n",
       " 'InSight Steers Toward Mars',\n",
       " 'NASA is Ready to Study the Heart of Mars',\n",
       " 'NASA Briefing on First Mission to Study Mars Interior',\n",
       " \"New 'AR' Mobile App Features 3-D NASA Spacecraft\",\n",
       " 'Opportunity Hunkers Down During Dust Storm',\n",
       " 'NASA Finds Ancient Organic Material, Mysterious Methane on Mars',\n",
       " 'NASA Invests in Visionary Technology ',\n",
       " 'NASA is Ready to Study the Heart of Mars',\n",
       " 'NASA Briefing on First Mission to Study Mars Interior',\n",
       " \"New 'AR' Mobile App Features 3-D NASA Spacecraft\",\n",
       " 'Opportunity Hunkers Down During Dust Storm',\n",
       " 'NASA Finds Ancient Organic Material, Mysterious Methane on Mars',\n",
       " 'NASA Invests in Visionary Technology ']"
      ]
     },
     "execution_count": 6,
     "metadata": {},
     "output_type": "execute_result"
    }
   ],
   "source": [
    "\n",
    "\n",
    "title1 = soup.find_all('div', class_=\"content_title\")\n",
    "\n",
    "titles=[]\n",
    "\n",
    "title1\n",
    "for x in title1:\n",
    "    titles.append(x.find('a').text.replace(\"\\n\", \"\"))\n",
    "\n",
    "titles"
   ]
  },
  {
   "cell_type": "code",
   "execution_count": 7,
   "metadata": {},
   "outputs": [],
   "source": [
    "url2 = 'https://www.jpl.nasa.gov/spaceimages/?search=&category=Mars'\n",
    "browser.visit(url2)\n",
    "html2 = browser.html\n",
    "soup2 = BeautifulSoup(html2, 'html.parser')"
   ]
  },
  {
   "cell_type": "code",
   "execution_count": 8,
   "metadata": {},
   "outputs": [
    {
     "data": {
      "text/plain": [
       "'https://www.jpl.nasa.gov/spaceimages/images/wallpaper/PIA17563-1920x1200.jpg'"
      ]
     },
     "execution_count": 8,
     "metadata": {},
     "output_type": "execute_result"
    }
   ],
   "source": [
    "featuredimg = soup2.find_all('article', class_=\"carousel_item\")\n",
    "imgurl = [tag['style'] for tag in soup2.findAll('article')]\n",
    "\n",
    "\n",
    "imgurl1 = imgurl[0].replace(\"background-image: url('\", \"\")\n",
    "imgurl2 = imgurl1.replace(\"');\", \"\")\n",
    "\n",
    "finalimgurl = f'https://www.jpl.nasa.gov' + f'{imgurl2}'\n",
    "\n",
    "finalimgurl"
   ]
  },
  {
   "cell_type": "code",
   "execution_count": 9,
   "metadata": {},
   "outputs": [
    {
     "data": {
      "text/plain": [
       "'Sol 2227 (2018-11-11), high -3C/26F, low -72C/-97F, pressure at 8.63 hPa, daylight 06:21-18:38'"
      ]
     },
     "execution_count": 9,
     "metadata": {},
     "output_type": "execute_result"
    }
   ],
   "source": [
    "url3 = 'https://twitter.com/marswxreport?lang=en'\n",
    "browser.visit(url3)\n",
    "html3 = browser.html\n",
    "soup3 = BeautifulSoup(html3, 'html.parser')\n",
    "\n",
    "memes = soup3.find_all('p', class_=\"TweetTextSize TweetTextSize--normal js-tweet-text tweet-text\")\n",
    "\n",
    "mars_temp = memes[0].text\n",
    "\n",
    "mars_temp"
   ]
  },
  {
   "cell_type": "code",
   "execution_count": 24,
   "metadata": {},
   "outputs": [
    {
     "data": {
      "text/plain": [
       "(('Equatorial Diameter:', '6,792 km\\n'),\n",
       " ('Polar Diameter:', '6,752 km\\n'),\n",
       " ('Mass:', '6.42 x 10^23 kg (10.7% Earth)'),\n",
       " ('Moons:', '2 (Phobos & Deimos)'),\n",
       " ('Orbit Distance:', '227,943,824 km (1.52 AU)'),\n",
       " ('Orbit Period:', '687 days (1.9 years)\\n'),\n",
       " ('Surface Temperature: ', '-153 to 20 °C'),\n",
       " ('First Record:', '2nd millennium BC'),\n",
       " ('Recorded By:', 'Egyptian astronomers'))"
      ]
     },
     "execution_count": 24,
     "metadata": {},
     "output_type": "execute_result"
    }
   ],
   "source": [
    "url4 = 'https://space-facts.com/mars/'\n",
    "browser.visit(url4)\n",
    "html4 = browser.html\n",
    "soup4 = BeautifulSoup(html4, 'html.parser')\n",
    "\n",
    "table = soup4.find_all('table', class_=\"tablepress tablepress-id-mars\")\n",
    "\n",
    "label = []\n",
    "param = []\n",
    "\n",
    "for x in table:\n",
    "    meme2 = x.find_all('strong')\n",
    "for y in meme2:\n",
    "    label.append(y.text)\n",
    "    \n",
    "for z in table:\n",
    "    meme3 = z.find_all('td', class_=\"column-2\")\n",
    "for a in meme3:\n",
    "    param.append(a.text)\n",
    "\n",
    "tempmemes = tuple(zip(label, param))\n",
    "tempmemes\n"
   ]
  },
  {
   "cell_type": "code",
   "execution_count": null,
   "metadata": {},
   "outputs": [],
   "source": []
  },
  {
   "cell_type": "code",
   "execution_count": null,
   "metadata": {},
   "outputs": [],
   "source": []
  },
  {
   "cell_type": "code",
   "execution_count": null,
   "metadata": {},
   "outputs": [],
   "source": []
  },
  {
   "cell_type": "code",
   "execution_count": null,
   "metadata": {},
   "outputs": [],
   "source": []
  }
 ],
 "metadata": {
  "kernelspec": {
   "display_name": "Python 3",
   "language": "python",
   "name": "python3"
  },
  "language_info": {
   "codemirror_mode": {
    "name": "ipython",
    "version": 3
   },
   "file_extension": ".py",
   "mimetype": "text/x-python",
   "name": "python",
   "nbconvert_exporter": "python",
   "pygments_lexer": "ipython3",
   "version": "3.6.5"
  }
 },
 "nbformat": 4,
 "nbformat_minor": 2
}
